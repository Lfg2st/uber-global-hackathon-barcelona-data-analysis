{
 "cells": [
  {
   "cell_type": "code",
   "execution_count": 2,
   "metadata": {},
   "outputs": [
    {
     "name": "stdout",
     "output_type": "stream",
     "text": [
      "Archive:  ../Barcelona data sets-20230914T062547Z-001.zip\n",
      "  inflating: Barcelona data sets/most_frequent_baby_names.csv  \n",
      "  inflating: Barcelona data sets/most_frequent_names.csv  \n",
      "  inflating: Barcelona data sets/immigrants_emigrants_by_destination.csv  \n",
      "  inflating: Barcelona data sets/deaths.csv  \n",
      "  inflating: Barcelona data sets/license.md  \n",
      "  inflating: Barcelona data sets/immigrants_emigrants_by_sex.csv  \n",
      "  inflating: Barcelona data sets/immigrants_emigrants_by_destination2.csv  \n",
      "  inflating: Barcelona data sets/life_expectancy.csv  \n",
      "  inflating: Barcelona data sets/bus_stops.csv  \n",
      "  inflating: Barcelona data sets/transports.csv  \n",
      "  inflating: Barcelona data sets/accidents_2017.csv  \n",
      "  inflating: Barcelona data sets/immigrants_emigrants_by_age.csv  \n",
      "  inflating: Barcelona data sets/births.csv  \n",
      "  inflating: Barcelona data sets/unemployment.csv  \n",
      "  inflating: Barcelona data sets/air_stations_Nov2017.csv  \n",
      "  inflating: Barcelona data sets/air_quality_Nov2017.csv  \n",
      "  inflating: Barcelona data sets/immigrants_by_nationality.csv  \n",
      "  inflating: Barcelona data sets/population.csv  \n"
     ]
    }
   ],
   "source": [
    "!unzip \"../Barcelona data sets-20230914T062547Z-001.zip\""
   ]
  },
  {
   "cell_type": "code",
   "execution_count": null,
   "metadata": {},
   "outputs": [],
   "source": [
    "import pandas as pd\n",
    "pd.read_csv('')"
   ]
  }
 ],
 "metadata": {
  "kernelspec": {
   "display_name": "environment",
   "language": "python",
   "name": "python3"
  },
  "language_info": {
   "codemirror_mode": {
    "name": "ipython",
    "version": 3
   },
   "file_extension": ".py",
   "mimetype": "text/x-python",
   "name": "python",
   "nbconvert_exporter": "python",
   "pygments_lexer": "ipython3",
   "version": "3.11.5"
  },
  "orig_nbformat": 4
 },
 "nbformat": 4,
 "nbformat_minor": 2
}
