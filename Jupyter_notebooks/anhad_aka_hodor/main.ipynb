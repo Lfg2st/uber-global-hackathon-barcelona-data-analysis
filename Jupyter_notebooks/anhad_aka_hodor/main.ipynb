{
 "cells": [
  {
   "cell_type": "markdown",
   "metadata": {},
   "source": [
    "# Uber Global Hackathon: Improving Uber's Service in Barcelona through data analysis of the immigration-emmigration datasets 🚗\n",
    "\n",
    "![A scenery from Barcelona](https://images.unsplash.com/photo-1464790719320-516ecd75af6c?ixlib=rb-4.0.3&ixid=M3wxMjA3fDB8MHxwaG90by1wYWdlfHx8fGVufDB8fHx8fA%3D%3D&auto=format&fit=crop&w=2670&q=80)\n",
    "**image source = https://shorturl.at/gklHV**\n",
    "## 👋 Introduction\n",
    "\n",
    "Welcome to my Uber Global Hackathon project focused on enhancing Uber's service in Barcelona by leveraging immigration and emigration related datasets. In this project, we will undertake a comprehensive data-driven exploration and analysis of relevant datasets for the city of Barcelona. Our goal is to uncover valuable insights that can lead to improvements in Uber's services tailored specifically for this vibrant and diverse urban center.\n",
    "\n",
    "### 🎯 Project Objectives\n",
    "\n",
    "Our project follows a structured approach to achieve its objectives:\n",
    "\n",
    "1. **Exploratory Data Analysis (EDA)**: We will begin by conducting a thorough exploratory data analysis of the immigration and emigration datasets related to Barcelona. EDA will help us understand the nature of the data, identify patterns, and gain initial insights into the factors that may impact Uber's operations in the city.\n",
    "\n",
    "2. **Question Formulation**: After gaining a deeper understanding of the data through EDA, we will formulate relevant questions and hypotheses. These questions will guide our analysis and help us focus on specific aspects of the data that are crucial for improving Uber's service.\n",
    "\n",
    "3. **Data Cleaning**: Data quality is paramount in any analysis. We will perform data cleaning to ensure that our datasets are free from errors, missing values, and inconsistencies. Clean data is essential for reliable and accurate analysis.\n",
    "\n",
    "4. **Feature Transformation**: To extract meaningful information from the datasets, we may need to transform or engineer features. This step will involve creating new variables or modifying existing ones to enhance the relevance of the data to our analysis.\n",
    "\n",
    "5. **Data Modeling**: Using the cleaned and transformed data, we will apply various data modeling techniques to answer our formulated questions. This may include statistical analysis, machine learning, and predictive modeling to uncover insights and patterns.\n",
    "\n",
    "6. **Potential Service Improvements**: Based on our analysis, we will propose potential improvements to Uber's service in Barcelona. These improvements will be data-driven and tailored to address specific challenges and opportunities identified during the analysis.\n",
    "\n",
    "### ✨ A note on conventions\n",
    "1. All CSV files in the form of a Pandas dataframe begin with `df_` followed by the name of the file\n",
    "2. All variables in this jupyter notebook have been written in the snake_case.\n",
    "3. All functions are written using the camelCase.\n",
    "4. All classes are written using the PascalCase\n",
    "### Let's Get Started!\n",
    "\n"
   ]
  },
  {
   "cell_type": "code",
   "execution_count": null,
   "metadata": {},
   "outputs": [],
   "source": [
    "# importing of libraries\n",
    "import pandas as pd\n",
    "import numpy as np\n",
    "import matplotlib.pyplot as plt\n",
    "import seaborn as sns\n",
    "\n"
   ]
  },
  {
   "cell_type": "code",
   "execution_count": null,
   "metadata": {},
   "outputs": [],
   "source": [
    "# importing of datasets\n",
    "df_nationality  = pd.read_csv(\"../../CSVs/Barcelona data sets/immigrants_by_nationality.csv\")\n",
    "df_by_age= pd.read_csv(\"../../CSVs/Barcelona data sets/immigrants_emigrants_by_age.csv\")\n",
    "df_by_destination_1  = pd.read_csv(\"../../CSVs/Barcelona data sets/immigrants_emigrants_by_destination.csv\")\n",
    "df_by_destination_2  = pd.read_csv(\"../../CSVs/Barcelona data sets/immigrants_emigrants_by_destination2.csv\")\n",
    "df_by_sex  = pd.read_csv(\"../../CSVs/Barcelona data sets/immigrants_emigrants_by_sex.csv\")\n",
    "datasets = [df_nationality, df_by_age, df_by_destination_1, df_by_destination_2, df_by_sex]"
   ]
  },
  {
   "cell_type": "markdown",
   "metadata": {},
   "source": [
    "### Information on datasets (copied directly from the task document)\n",
    "1. immigrants_by_nationality.csv: This dataset contains information on immigrants in Barcelona,\n",
    "classified by nationality and neighborhoods, from 2015 to 2017. It allows students to understand the\n",
    "diversity of the city's immigrant population.\n",
    "\n",
    "2. immigrants_emigrants_by_age.csv: The dataset provides insights into immigrants and emigrants\n",
    "categorized by quinquennial ages and neighborhoods for the years 2015 to 2017. Students can analyze\n",
    "migration patterns and understand age-specific migration trends.\n",
    "\n",
    "3. immigrants_emigrants_by_destination.csv: This dataset presents information on immigrants and\n",
    "emigrants, detailing their place of origin and destination, respectively, for the year 2017. Students\n",
    "can explore migration patterns in and out of Barcelona.\n",
    "\n",
    "4. immigrants_emigrants_by_destination2.csv: Similar to the previous dataset, this one also includes\n",
    "neighborhood-wise information on immigrants and emigrants' origin and destination for the year 2017.\n",
    "\n",
    "5. immigrants_emigrants_by_sex.csv: The dataset records immigrants and emigrants categorized by sex\n",
    "and neighborhoods from 2013 to 2017. Students can gain insights into gender-specific migration\n",
    "patterns."
   ]
  },
  {
   "cell_type": "markdown",
   "metadata": {},
   "source": [
    "### Viewing head and tail of the dataset"
   ]
  },
  {
   "cell_type": "code",
   "execution_count": null,
   "metadata": {},
   "outputs": [],
   "source": [
    "df_nationality.head()"
   ]
  },
  {
   "cell_type": "code",
   "execution_count": null,
   "metadata": {},
   "outputs": [],
   "source": [
    "df_nationality.tail()"
   ]
  },
  {
   "cell_type": "code",
   "execution_count": null,
   "metadata": {},
   "outputs": [],
   "source": [
    "df_by_destination_1.head()"
   ]
  },
  {
   "cell_type": "code",
   "execution_count": null,
   "metadata": {},
   "outputs": [],
   "source": [
    "df_by_destination_1.tail()"
   ]
  },
  {
   "cell_type": "code",
   "execution_count": null,
   "metadata": {},
   "outputs": [],
   "source": [
    "df_by_destination_2.head()"
   ]
  },
  {
   "cell_type": "code",
   "execution_count": null,
   "metadata": {},
   "outputs": [],
   "source": [
    "df_by_destination_2.tail()"
   ]
  },
  {
   "cell_type": "code",
   "execution_count": null,
   "metadata": {},
   "outputs": [],
   "source": [
    "df_by_age.head()"
   ]
  },
  {
   "cell_type": "code",
   "execution_count": null,
   "metadata": {},
   "outputs": [],
   "source": [
    "df_by_age.tail()"
   ]
  },
  {
   "cell_type": "code",
   "execution_count": null,
   "metadata": {},
   "outputs": [],
   "source": [
    "df_by_sex.head()"
   ]
  },
  {
   "cell_type": "code",
   "execution_count": null,
   "metadata": {},
   "outputs": [],
   "source": [
    "df_by_sex.tail()"
   ]
  },
  {
   "cell_type": "markdown",
   "metadata": {},
   "source": [
    "### Missing data recognization and imputation"
   ]
  },
  {
   "cell_type": "code",
   "execution_count": null,
   "metadata": {},
   "outputs": [],
   "source": [
    "for dataset in datasets:\n",
    "    print(dataset.info())"
   ]
  },
  {
   "cell_type": "markdown",
   "metadata": {},
   "source": [
    "While utilizing the `.info()` function, it became evident that none of the datasets registered any NaN values. However, this observation is somewhat misleading, as some datasets employ placeholders like 'No information' to denote missing data. These placeholders, while not technically NaN values, are functionally equivalent in the context of data visualization and analysis. Detecting and addressing these placeholders manually would be a time-consuming endeavor. Moreover, it remains uncertain whether all instances of missing data have indeed been replaced uniformly with the 'No information' placeholder by the data provider.\n",
    "\n",
    "Considering these factors, we have decided to defer data imputation for the time being. These categories will become apparent during our data visualization phase, allowing us to handle them appropriately based on their impact on the analysis. This approach helps us avoid unnecessary manual data scrutiny while remaining flexible in addressing missing data scenarios, given the ambiguity surrounding the data source's handling of missing information. Another approach to solving data imputation for now would be to use A.I. tools like \"ChatGPT\" to recognise these functionally equivalent to NaN values however that too would take a significant amount of time considering the sheer size of this dataset."
   ]
  },
  {
   "cell_type": "markdown",
   "metadata": {},
   "source": [
    "### Data visualisation of the nationalities dataset"
   ]
  },
  {
   "cell_type": "code",
   "execution_count": null,
   "metadata": {},
   "outputs": [],
   "source": [
    "df_nationality['District Code'].value_counts()"
   ]
  },
  {
   "cell_type": "code",
   "execution_count": null,
   "metadata": {},
   "outputs": [],
   "source": [
    "df_nationality['District Name'].value_counts()"
   ]
  },
  {
   "cell_type": "code",
   "execution_count": null,
   "metadata": {},
   "outputs": [],
   "source": [
    "# Separate values and frequencies\n",
    "unique_district = df_nationality['District Name'].value_counts().index\n",
    "frequencies_district = df_nationality['District Name'].value_counts().values\n"
   ]
  },
  {
   "cell_type": "markdown",
   "metadata": {},
   "source": [
    "It is imperative to recognise that the district code of 99 represents that the district the immigrant has migrated to hasn't been recorded. `No consta` is a Spanish translation for the English phrase `Not recorded`. We will now plot data on the basis of district"
   ]
  },
  {
   "cell_type": "code",
   "execution_count": null,
   "metadata": {},
   "outputs": [],
   "source": [
    "def find_percentage(key_list, value_list, decimal_places=2, as_string=False):\n",
    "    \"\"\"\n",
    "    Calculate the percentage values for a list of numeric values and round them to a specified number of decimal places.\n",
    "\n",
    "    Args:\n",
    "        key_list (list): A list of keys or labels corresponding to the values.\n",
    "        value_list (list): A list of numeric values for which percentages will be calculated.\n",
    "        decimal_places (int, optional): The number of decimal places to round the percentage values to. Default is 2.\n",
    "        as_string (bool, optional): If True, returns the percentages as strings with '%' sign. Default is False.\n",
    "\n",
    "    Returns:\n",
    "        dict or list: If `as_string` is False (default), returns a dictionary where keys are taken from the `key_list`, \n",
    "                      and values are the corresponding percentages of the total sum of `value_list` rounded to the specified \n",
    "                      decimal places. If `as_string` is True, returns a list of strings where each string represents \n",
    "                      a key-value pair as \"<key>: <value>%\".\n",
    "\n",
    "    Example:\n",
    "        key_list = [\"A\", \"B\", \"C\"]\n",
    "        value_list = [10, 20, 30]\n",
    "        decimal_places = 2\n",
    "        as_string = False\n",
    "\n",
    "        result = find_percentage(key_list, value_list, decimal_places, as_string)\n",
    "\n",
    "        The result would be: {'A': 16.67, 'B': 33.33, 'C': 50.00}\n",
    "\n",
    "        key_list = [\"A\", \"B\", \"C\"]\n",
    "        value_list = [10, 20, 30]\n",
    "        decimal_places = 2\n",
    "        as_string = True\n",
    "\n",
    "        result = find_percentage(key_list, value_list, decimal_places, as_string)\n",
    "\n",
    "        The result would be: ['A: 16.67%', 'B: 33.33%', 'C: 50.00%']\n",
    "    \"\"\"\n",
    "    output = {}\n",
    "    sum_value_list = sum(value_list)\n",
    "    for index, value in enumerate(value_list):\n",
    "        percentage_value = round((value / sum_value_list) * 100, decimal_places)\n",
    "        output[key_list[index]] = percentage_value\n",
    "    if as_string:\n",
    "        return [f'{key}: {value}%' for key, value in output.items()]\n",
    "    else:\n",
    "        return output\n"
   ]
  },
  {
   "cell_type": "code",
   "execution_count": null,
   "metadata": {},
   "outputs": [],
   "source": [
    "# Create a 3x2 grid of subplots with a large overall figure size\n",
    "fig, ax = plt.subplots(nrows=3, ncols=2, figsize=(30, 30))\n",
    "\n",
    "# Add a super title to the entire figure\n",
    "fig.suptitle('District and Neighborhood Distributions', fontsize='40', horizontalalignment='center')\n",
    "\n",
    "# Define the top five districts for later use\n",
    "top_five_districts = unique_district[1:5]\n",
    "\n",
    "# Set the colormap for the pie charts\n",
    "colormap = plt.cm.viridis\n",
    "\n",
    "# Plot the first pie chart (Distribution of immigrants based on District Name)\n",
    "ax[0, 0].pie(frequencies_district, startangle=90, colors=sns.color_palette(\"Paired\"))\n",
    "\n",
    "# Add a legend showing percentage labels\n",
    "ax[0, 0].legend(find_percentage(unique_district, frequencies_district, decimal_places=2, as_string=True), \n",
    "                loc='upper left', \n",
    "                bbox_to_anchor=(0.9, 1), \n",
    "                fontsize=15) \n",
    "\n",
    "# Set the title for the first subplot\n",
    "ax[0, 0].set_title('''Distribution of immigrants \n",
    "based on `District Name`''', fontsize='32')\n",
    "\n",
    "# Filter data for the Nou Barris district\n",
    "nou_barris_fltr_df = df_nationality.loc[df_nationality['District Name'] == 'Nou Barris']\n",
    "\n",
    "# Plot the second pie chart (Distribution of immigrants in Nou Barris by Neighborhood)\n",
    "ax[0, 1].pie(nou_barris_fltr_df['Neighborhood Name'].value_counts().values, colors=sns.color_palette(\"Paired\"),\n",
    "    startangle=90)\n",
    "\n",
    "# Add a legend showing percentage labels for the second pie chart\n",
    "ax[0, 1].legend(find_percentage(nou_barris_fltr_df['Neighborhood Name'].value_counts().index, \n",
    "                                nou_barris_fltr_df['Neighborhood Name'].value_counts().values, \n",
    "                                decimal_places=2, as_string=True), \n",
    "                loc='upper left', \n",
    "                bbox_to_anchor=(0.9, 1), \n",
    "                fontsize=15) \n",
    "\n",
    "# Set the title for the second subplot\n",
    "ax[0, 1].set_title('''Distribution of immigrants on the \n",
    "basis of `Neighborhood Name` \n",
    "(district = Nou Barris)''', fontsize='32')\n",
    "\n",
    "# Initialize a counter for the top five districts\n",
    "district_counter = 0\n",
    "\n",
    "# Loop through the remaining subplots (row 1, column 0 to row 2, column 1)\n",
    "for row in range(1, 3):\n",
    "    for column in range(2):\n",
    "        # Filter data for the current district in the loop\n",
    "        district_filtered_df = df_nationality.loc[df_nationality['District Name'] == top_five_districts[district_counter]]\n",
    "\n",
    "        # Plot a pie chart for the distribution of immigrants in the current district by Neighborhood\n",
    "        ax[row, column].pie(district_filtered_df['Neighborhood Name'].value_counts().values, colors=sns.color_palette(\"Paired\"),\n",
    "            startangle=90)\n",
    "\n",
    "        # Add a legend showing percentage labels for the current pie chart\n",
    "        ax[row, column].legend(find_percentage(district_filtered_df['Neighborhood Name'].value_counts().index, \n",
    "                                                district_filtered_df['Neighborhood Name'].value_counts().values, \n",
    "                                                decimal_places=2, as_string=True), \n",
    "                                loc='upper left', \n",
    "                                bbox_to_anchor=(0.9, 1), \n",
    "                                fontsize=15) \n",
    "\n",
    "        # Set the title for the current subplot based on the district being analyzed\n",
    "        ax[row, column].set_title(f'''Distribution of immigrants on the \n",
    "        basis of `Neighborhood Name` \n",
    "        (district = {top_five_districts[district_counter]})''', fontsize='32')\n",
    "        \n",
    "        # Increment the district counter\n",
    "        district_counter += 1\n",
    "\n",
    "# Display the plot\n",
    "plt.show()\n"
   ]
  },
  {
   "cell_type": "markdown",
   "metadata": {},
   "source": [
    "### Country wise distribution of immigrants"
   ]
  },
  {
   "cell_type": "code",
   "execution_count": null,
   "metadata": {},
   "outputs": [],
   "source": [
    "len(df_nationality.Nationality.unique())"
   ]
  },
  {
   "cell_type": "code",
   "execution_count": null,
   "metadata": {},
   "outputs": [],
   "source": [
    "unique_countries, frequencies_countries = df_nationality.Nationality.value_counts().index, df_nationality.Nationality.value_counts().values\n",
    "df_nationality.Nationality.value_counts()"
   ]
  },
  {
   "cell_type": "markdown",
   "metadata": {},
   "source": [
    "\"Within the category of 'Spain,' it's important to note that it encompasses individuals who hold Spanish nationality but may have previously resided in regions outside of Barcelona.\""
   ]
  },
  {
   "cell_type": "code",
   "execution_count": null,
   "metadata": {},
   "outputs": [],
   "source": [
    "# finding dataspread \n",
    "fig, ax = plt.subplots(figsize = (10, 10))\n",
    "fig.suptitle('Distribution of immigrants from different nationalities in Barcelona', fontsize = 32)\n",
    "ax.bar(unique_countries, frequencies_countries)\n",
    "ax.axhline(np.mean(np.array(frequencies_countries)), color='red', linestyle='dashed', linewidth=2, label=f'Mean: {np.mean(np.array(frequencies_countries)):.2f}')\n",
    "ax.axhline(np.median(np.array(frequencies_countries)), color='green', linestyle='dashed', linewidth=2, label=f'Median: {np.median(np.array(frequencies_countries)):.2f}')\n",
    "ax.axhline(222, color='purple', linestyle='dashed', linewidth=2, label=f'Mode: {222:.2f}')\n",
    "ax.set_xlabel('''** Names of nationalities has been removed \n",
    "due to the sheer size of nationalities **''')\n",
    "ax.set_ylabel('Number of people from the nationality')\n",
    "ax.legend(loc = 'center right')\n",
    "ax.set_xticks('')"
   ]
  },
  {
   "cell_type": "code",
   "execution_count": null,
   "metadata": {},
   "outputs": [],
   "source": [
    "np.unique(df_nationality.Nationality.value_counts().values)"
   ]
  },
  {
   "cell_type": "markdown",
   "metadata": {},
   "source": [
    "From the distribution diagram, it becomes evident that the distribution of nationalities is quite uniform, with the median count hovering around 222 individuals per nationality. Intriguingly, this figure coincides with the highest count observed among immigrants from any single country. Specifically, the count of individuals from a particular country can be categorized into one of three values: 74, 148, or 222."
   ]
  },
  {
   "cell_type": "markdown",
   "metadata": {},
   "source": [
    "### EDA of `df_by_sex`\n",
    "\n",
    "Immigration and emmigration by year, taking into consideration sex"
   ]
  },
  {
   "cell_type": "code",
   "execution_count": null,
   "metadata": {},
   "outputs": [],
   "source": [
    "immigrants_male = []\n",
    "emigrants_male = []\n",
    "\n",
    "immigrants_female = []\n",
    "emigrants_female = []\n",
    "\n",
    "for year in range(2013, 2018):\n",
    "    for gender in ['Male', 'Female']:\n",
    "        gender_and_year_filtered_df = df_by_sex.loc[(df_by_sex['Gender'] == gender) & (df_by_sex['Year'] == year)]\n",
    "        \n",
    "        sum_of_immigrants = sum(gender_and_year_filtered_df['Immigrants'])\n",
    "        sum_of_emigrants = sum(gender_and_year_filtered_df['Emigrants'])\n",
    "\n",
    "        if gender == 'Male':\n",
    "            immigrants_male.append(sum_of_immigrants)\n",
    "            emigrants_male.append(sum_of_emigrants)\n",
    "        if gender == 'Female':\n",
    "            immigrants_female.append(sum_of_immigrants)\n",
    "            emigrants_female.append(sum_of_emigrants)\n"
   ]
  },
  {
   "cell_type": "code",
   "execution_count": null,
   "metadata": {},
   "outputs": [],
   "source": [
    "sns.set_style('whitegrid')\n",
    "fig, ax = plt.subplots(figsize = (10, 10))\n",
    "years = [year for year in range(2013, 2018)]\n",
    "# Set the width of the bars\n",
    "bar_width = 0.3\n",
    "\n",
    "# Calculate the positions for each group of bars\n",
    "x = np.arange(len(years))\n",
    "position_immigrants = x - bar_width\n",
    "position_emigrants = x\n",
    "\n",
    "# Create the bar plots\n",
    "plt.bar(position_immigrants, immigrants_male, bar_width, label='Male Immigrants', color = '#FFCC70')\n",
    "plt.bar(position_immigrants, immigrants_female, bar_width, label='Female Immigrants', bottom=immigrants_male, color = '#337CCF')\n",
    "\n",
    "plt.bar(position_emigrants, emigrants_male, bar_width, label='Male Emigrants', color = '#8ECDDD')\n",
    "plt.bar(position_emigrants, emigrants_female, bar_width, label='Female Emigrants', bottom=emigrants_male, color = '#45FFCA')\n",
    "\n",
    "# Set the x-axis labels\n",
    "plt.xticks(x, years)\n",
    "\n",
    "# Add labels and legend\n",
    "plt.xlabel('Year')\n",
    "plt.ylabel('Count')\n",
    "plt.title('Immigration and Emigration by Gender and Year')\n",
    "plt.legend()\n",
    "\n",
    "# Show the plot\n",
    "plt.tight_layout()\n",
    "plt.show()\n"
   ]
  },
  {
   "cell_type": "markdown",
   "metadata": {},
   "source": [
    "Using this graph, one can identify that the number of emigrants remains fairly constant throughout the years however the number immigrants increases rapidly from 2013 --> 2017 (from just over 75,000 immigrants to around 95,000 immigrants)"
   ]
  },
  {
   "cell_type": "markdown",
   "metadata": {},
   "source": [
    "### Age wise distribution of emmigrants and emmigrants"
   ]
  },
  {
   "cell_type": "code",
   "execution_count": null,
   "metadata": {},
   "outputs": [],
   "source": [
    "age_brackets = np.unique(df_by_age.Age)"
   ]
  },
  {
   "cell_type": "code",
   "execution_count": null,
   "metadata": {},
   "outputs": [],
   "source": [
    "emigrants_by_age = []\n",
    "immigrants_by_age = []\n",
    "\n",
    "for bracket in age_brackets:\n",
    "    age_filtered_df = df_by_age.loc[(df_by_age.Age == bracket)]\n",
    "    immigrants_by_age.append(sum(age_filtered_df.Immigrants))\n",
    "    emigrants_by_age.append(sum(age_filtered_df.Emigrants))\n",
    "\n",
    "# Create a figure with two subplots (one for immigrants and one for emigrants)\n",
    "fig, axes = plt.subplots(1, 2, figsize=(10, 5), sharey=True)\n",
    "\n",
    "# Plot immigrants on the left subplot\n",
    "sns.barplot(x=immigrants_by_age, y=age_brackets, ax=axes[0], color='green')\n",
    "axes[0].set_title('Immigrants by Age')\n",
    "axes[0].set_xlabel('Count')\n",
    "axes[0].set_ylabel('Age Brackets')\n",
    "\n",
    "# Plot emigrants on the right subplot\n",
    "sns.barplot(x=emigrants_by_age, y=age_brackets, ax=axes[1], color='red')\n",
    "axes[1].set_title('Emigrants by Age')\n",
    "axes[1].set_xlabel('Count')\n",
    "\n",
    "# Add a common y-axis label\n",
    "axes[0].tick_params(axis='y', which='both', labelleft=False, labelright=True)\n",
    "axes[0].invert_xaxis()\n",
    "plt.subplots_adjust(wspace=0.16)  # Adjust the space between subplots\n",
    "plt.suptitle('Immigration and Emigration by Age Bracket', fontsize=16)\n",
    "plt.show()\n"
   ]
  },
  {
   "cell_type": "markdown",
   "metadata": {},
   "source": [
    "### Immigration and Emigration Distribution by Age\n",
    "The distribution of immigration and emigration by age reveals interesting insights into the demographics of people moving in and out of a region or country. In our analysis, we observed the following key findings:\n",
    "\n",
    "### Gaussian Distribution with Left Skew:\n",
    "\n",
    "The distribution of both immigration and emigration by age follows a Gaussian distribution, also known as a normal distribution. This means that the majority of immigrants and emigrants tend to cluster around a central age group, with fewer individuals in the younger and older age brackets.\n",
    "\n",
    "Additionally, both distributions exhibit a noticeable left skew. This skew indicates that there is a higher concentration of people migrating at younger ages, and the number of migrants gradually decreases as age increases after reaching the peak, modal class. In other words, the distribution is skewed towards the younger age groups, suggesting that migration is more common among younger individuals.\n",
    "\n",
    "### Modal Class for Emigrants: 30-34\n",
    "\n",
    "The modal class for emigrants, i.e., the age group with the highest number of individuals leaving the region or country, is centered around the 30-34 age bracket. This suggests that a significant portion of individuals in their early thirties are more likely to emigrate, possibly seeking new opportunities or experiences elsewhere.\n",
    "\n",
    "### Modal Class for Immigrants: 25-29\n",
    "\n",
    "On the other hand, the modal class for immigrants, i.e., the age group with the highest number of individuals entering the region or country, is centered around the 25-29 age bracket. This indicates that there is a strong tendency for people in their mid to late twenties to be more attracted to the region."
   ]
  },
  {
   "cell_type": "markdown",
   "metadata": {},
   "source": [
    "## Cumulative graph for Immigrants and Emigrants + Number of immigrants and emmigrants per year"
   ]
  },
  {
   "cell_type": "code",
   "execution_count": 37,
   "metadata": {},
   "outputs": [
    {
     "data": {
      "image/png": "[encoded data removed]",
      "text/plain": [
       "<Figure size 1000x1000 with 1 Axes>"
      ]
     },
     "metadata": {},
     "output_type": "display_data"
    }
   ],
   "source": [
    "sns.set_style('whitegrid')\n",
    "fig, ax = plt.subplots(figsize=(10, 10))\n",
    "years = [year for year in range(2013, 2018)]\n",
    "\n",
    "# Calculate the total immigrants and emigrants per year\n",
    "total_immigrants_per_year = [a + b for a, b in zip(immigrants_male, immigrants_female)]\n",
    "total_emigrants_per_year = [a + b for a, b in zip(emigrants_male, emigrants_female)]\n",
    "\n",
    "# Calculate cumulative values for immigrants and emigrants\n",
    "cumulative_immigrants = np.cumsum(total_immigrants_per_year)\n",
    "cumulative_emigrants = np.cumsum(total_emigrants_per_year)\n",
    "\n",
    "# Plot total immigrants and cumulative curve for immigrants\n",
    "plt.plot(years, total_immigrants_per_year, label='Total immigrants', color='#FFCC70')\n",
    "plt.plot(years, cumulative_immigrants, label='Cumulative curve for immigrant count', color='#337CCF', linestyle = '--')\n",
    "\n",
    "# Plot total emigrants and cumulative curve for emigrants\n",
    "plt.plot(years, total_emigrants_per_year, label='Total emigrants', color='#FFA07A')\n",
    "plt.plot(years, cumulative_emigrants, label='Cumulative curve emigrant count', color='#FF4500', linestyle = '--')\n",
    "\n",
    "# Set the x-axis labels\n",
    "plt.xticks(years)\n",
    "\n",
    "# Add labels and legend\n",
    "plt.xlabel('Year')\n",
    "plt.ylabel('Count')\n",
    "plt.title('Immigration and Emigration by Gender and Year')\n",
    "plt.legend()\n",
    "\n",
    "# Show the plot\n",
    "plt.tight_layout()\n",
    "plt.show()\n",
    "\n"
   ]
  },
  {
   "cell_type": "markdown",
   "metadata": {},
   "source": [
    "- Transportation Accessibility for Immigrants and Emigrants:\n",
    "\n",
    "1. How accessible is public transportation, including Uber, for immigrants and emigrants in different neighborhoods of Barcelona?\n",
    "2. Are there specific neighborhoods with high immigrant populations that face transportation challenges?\n",
    "3. What are the transportation preferences of immigrants and emigrants, and how can Uber tailor its services to meet their needs?\n",
    "\n",
    "- Language and Cultural Inclusion:\n",
    "\n",
    "4. How does language proficiency affect immigrants' and emigrants' ability to use transportation services like Uber?\n",
    "5. Can Uber provide language-specific options or support for users who may not be proficient in the local language?\n",
    "6. How can Uber's app and communication be more inclusive of diverse cultures and languages?\n",
    "\n",
    "- Safety and Inclusion:\n",
    "\n",
    "1. Are immigrants and emigrants more vulnerable to safety concerns when using transportation services?\n",
    "2. What safety features can Uber implement to make immigrants and emigrants feel more secure while using the platform?\n",
    "3. How can Uber ensure that its drivers are culturally sensitive and respectful to passengers from diverse backgrounds?\n",
    "\n",
    "- Affordability and Economic Inclusion:\n",
    "\n",
    "1. Are immigrants and emigrants facing financial challenges when using transportation services?\n",
    "2. Can Uber introduce special pricing or discounts to make its services more affordable for these groups?\n",
    "3. How can Uber support driver-partners from immigrant and emigrant backgrounds to improve their economic inclusion?"
   ]
  },
  {
   "cell_type": "markdown",
   "metadata": {},
   "source": []
  }
 ],
 "metadata": {
  "kernelspec": {
   "display_name": "environment",
   "language": "python",
   "name": "python3"
  },
  "language_info": {
   "codemirror_mode": {
    "name": "ipython",
    "version": 3
   },
   "file_extension": ".py",
   "mimetype": "text/x-python",
   "name": "python",
   "nbconvert_exporter": "python",
   "pygments_lexer": "ipython3",
   "version": "3.9.16"
  },
  "orig_nbformat": 4
 },
 "nbformat": 4,
 "nbformat_minor": 2
}
